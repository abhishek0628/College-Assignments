{
 "cells": [
  {
   "cell_type": "code",
   "execution_count": 41,
   "id": "6a65bc81",
   "metadata": {},
   "outputs": [],
   "source": [
    "import numpy as np\n",
    "import pandas as pd\n",
    "import matplotlib.pyplot as plt\n"
   ]
  },
  {
   "cell_type": "code",
   "execution_count": 42,
   "id": "fb8128a6",
   "metadata": {},
   "outputs": [],
   "source": [
    "x_test=pd.read_csv('test_X.csv')\n",
    "x_train=pd.read_csv('train_X.csv')\n",
    "y_test=pd.read_csv('test_label.csv')\n",
    "y_train=pd.read_csv('train_label.csv')"
   ]
  },
  {
   "cell_type": "code",
   "execution_count": 43,
   "id": "5ae06eaa",
   "metadata": {},
   "outputs": [],
   "source": [
    "X_train=x_train/255.0\n",
    "Y_train=y_train/255.0"
   ]
  },
  {
   "cell_type": "code",
   "execution_count": 44,
   "id": "d04b1ba1",
   "metadata": {},
   "outputs": [],
   "source": [
    "def relu(x):\n",
    "    return np.maximum(x,0)"
   ]
  },
  {
   "cell_type": "code",
   "execution_count": 45,
   "id": "933e54b5",
   "metadata": {},
   "outputs": [],
   "source": [
    "def tanh(x):\n",
    "    return np.tanh(x)"
   ]
  },
  {
   "cell_type": "code",
   "execution_count": 46,
   "id": "5b2677de",
   "metadata": {},
   "outputs": [],
   "source": [
    "def softmax(x):\n",
    "    expX = np.exp(x)\n",
    "    return expX / np.sum(expX, axis=0)"
   ]
  },
  {
   "cell_type": "code",
   "execution_count": 47,
   "id": "03adef88",
   "metadata": {},
   "outputs": [],
   "source": [
    "def derivative_tanh(x):\n",
    "    return 1 - np.power(np.tanh(x), 2)\n"
   ]
  },
  {
   "cell_type": "code",
   "execution_count": 48,
   "id": "d68953e8",
   "metadata": {},
   "outputs": [],
   "source": [
    "def derivative_relu(x):\n",
    "    return np.array(x > 0, dtype=np.float32)"
   ]
  },
  {
   "cell_type": "code",
   "execution_count": 49,
   "id": "f9601614",
   "metadata": {},
   "outputs": [],
   "source": [
    "\n",
    "def initialize_parameters(n_x, n_h, n_y):\n",
    "    w1 = np.random.randn(n_h, n_x) * 0.01\n",
    "    b1 = np.zeros((n_h, 1))\n",
    "    \n",
    "    w2 = np.random.randn(n_y, n_h) * 0.01\n",
    "    b2 = np.zeros((n_y, 1))\n",
    "    \n",
    "    parameters = {\n",
    "        \"w1\": w1,\n",
    "        \"b1\": b1,\n",
    "        \"w2\": w2,\n",
    "        \"b2\": b2\n",
    "    }\n",
    "    \n",
    "    return parameters"
   ]
  },
  {
   "cell_type": "code",
   "execution_count": 75,
   "id": "ec622e4a",
   "metadata": {},
   "outputs": [],
   "source": [
    "\n",
    "def forward_propagation(x, parameters):\n",
    "    w1 = parameters['w1']\n",
    "    b1 = parameters['b1']\n",
    "    w2 = parameters['w2']\n",
    "    b2 = parameters['b2']\n",
    "    \n",
    "    z1 = np.dot(w1, x) + b1\n",
    "    a1 = tanh(z1)\n",
    "    \n",
    "    z2 = np.dot(w2, a1) + b2\n",
    "    a2 = softmax(z2)\n",
    "    \n",
    "    forward_cache = {\n",
    "        \"z1\": z1,\n",
    "        \"a1\": a1,\n",
    "        \"z2\": z2,\n",
    "        \"a2\": a2\n",
    "    }\n",
    "    \n",
    "    return forward_cache\n",
    "\n",
    "    "
   ]
  },
  {
   "cell_type": "code",
   "execution_count": 76,
   "id": "9f0594eb",
   "metadata": {},
   "outputs": [],
   "source": [
    "\n",
    "def cost_function(a2, y):\n",
    "    m = y.shape[1]\n",
    "    a2 = np.clip(a2, 1e-10, 1 - 1e-10) \n",
    "    cost = -(1/m) * np.sum(y * np.log(a2))\n",
    "    return cost\n"
   ]
  },
  {
   "cell_type": "code",
   "execution_count": 77,
   "id": "dfb74c15",
   "metadata": {},
   "outputs": [],
   "source": [
    "def backward_propagation(x,y,forward_caches,parameter):\n",
    "    a1=forward_caches['a1']\n",
    "    a2=forward_caches['a2']\n",
    "    z1=forward_caches['z1']\n",
    "    z2=forward_caches['z2']\n",
    "    m=x.shape[1]\n",
    "    dz2=a2-y\n",
    "    dw2=(1/m)*np.dot(dz2,a1.T)\n",
    "    db2=(1/m)*np.sum(dz2,axis=1,keepdims=True)\n",
    "    dz1=np.dot(parameters['w2'].T,dz2)*derivative_tanh(z1)\n",
    "    dw1=(1/m)*np.dot(dz1,a2.T)\n",
    "    db1=(1/m)*np.sum(dz1,axis=1,keepdims=True)\n",
    "    gradients={\n",
    "        \"dw1\":dw1,\n",
    "        \"dw2\":dw2,\n",
    "        \"db1\":db1,\n",
    "        \"db2\":db2\n",
    "        \n",
    "    }\n",
    "    return gradients\n",
    "    "
   ]
  },
  {
   "cell_type": "code",
   "execution_count": 78,
   "id": "67e77e95",
   "metadata": {},
   "outputs": [],
   "source": [
    "def update_parameters(parameters, gradients, learning_rate):\n",
    "    w1 = parameters['w1']\n",
    "    b1 = parameters['b1']\n",
    "    w2 = parameters['w2']\n",
    "    b2 = parameters['b2']\n",
    "    \n",
    "    dw1 = gradients['dw1']\n",
    "    db1 = gradients['db1']\n",
    "    dw2 = gradients['dw2']\n",
    "    db2 = gradients['db2']\n",
    "    \n",
    "    w1 -= learning_rate * dw1\n",
    "    b1 -= learning_rate * db1\n",
    "    w2 -= learning_rate * dw2\n",
    "    b2 -= learning_rate * db2\n",
    "    \n",
    "    parameters = {\n",
    "        \"w1\": w1,\n",
    "        \"b1\": b1,\n",
    "        \"w2\": w2,\n",
    "        \"b2\": b2\n",
    "    }\n",
    "    \n",
    "    return parameters\n"
   ]
  },
  {
   "cell_type": "code",
   "execution_count": 79,
   "id": "94667b00",
   "metadata": {},
   "outputs": [],
   "source": [
    "def model(x, y, n_h, learning_rate, iterations):\n",
    "    n_x = x.shape[0]\n",
    "    n_y = y.shape[0]\n",
    "    \n",
    "    cost_list = []\n",
    "    \n",
    "    parameters = initialize_parameters(n_x, n_h, n_y)\n",
    "    \n",
    "    for i in range(iterations):\n",
    "        \n",
    "        forward_cache = forward_propagation(x, parameters)\n",
    "        cost = cost_function(forward_cache['a2'], y)\n",
    "        \n",
    "        gradients = backward_prop(x, y, parameters, forward_cache)\n",
    "        parameters = update_parameters(parameters, gradients, learning_rate)\n",
    "        \n",
    "        cost_list.append(cost)\n",
    "        \n",
    "        if i % (iterations // 10) == 0:\n",
    "            print(\"Cost after\", i, \"iterations is:\", cost)\n",
    "    \n",
    "    return parameters, cost_list"
   ]
  },
  {
   "cell_type": "code",
   "execution_count": 80,
   "id": "6b5a2ecc",
   "metadata": {},
   "outputs": [],
   "source": [
    "def accuracy(inp,label,parameters):\n",
    "    forward_caches=forward_propagation(inp,parameters)\n",
    "    a_out=forward_caches['a2']\n",
    "    a_out=np.argmax(label,0)\n",
    "    acc=np.mean(a_out==lable)*100\n",
    "    return acc"
   ]
  },
  {
   "cell_type": "code",
   "execution_count": 81,
   "id": "ec013202",
   "metadata": {},
   "outputs": [
    {
     "ename": "ValueError",
     "evalue": "Unable to coerce to DataFrame, shape must be (999, 10): given (999, 999)",
     "output_type": "error",
     "traceback": [
      "\u001b[0;31m---------------------------------------------------------------------------\u001b[0m",
      "\u001b[0;31mValueError\u001b[0m                                Traceback (most recent call last)",
      "Cell \u001b[0;32mIn[81], line 10\u001b[0m\n\u001b[1;32m      6\u001b[0m x_train \u001b[38;5;241m=\u001b[39m x_train\u001b[38;5;241m.\u001b[39mT\n\u001b[1;32m      7\u001b[0m x_test \u001b[38;5;241m=\u001b[39m x_test\u001b[38;5;241m.\u001b[39mT\n\u001b[0;32m---> 10\u001b[0m Parameters, Cost_list \u001b[38;5;241m=\u001b[39m model(x_train, y_train, n_h\u001b[38;5;241m=\u001b[39mn_h, learning_rate\u001b[38;5;241m=\u001b[39mlearning_rate, iterations\u001b[38;5;241m=\u001b[39miterations)\n\u001b[1;32m     13\u001b[0m \u001b[38;5;66;03m# t = np.arange(0, iterations)\u001b[39;00m\n\u001b[1;32m     14\u001b[0m \u001b[38;5;66;03m# plt.plot(t, Cost_list)\u001b[39;00m\n\u001b[1;32m     15\u001b[0m \u001b[38;5;66;03m# plt.show()\u001b[39;00m\n\u001b[0;32m   (...)\u001b[0m\n\u001b[1;32m     18\u001b[0m \u001b[38;5;66;03m# print(\"Accuracy of Train Dataset:\", accuracy(x_train, y_train, Parameters), \"%\")\u001b[39;00m\n\u001b[1;32m     19\u001b[0m \u001b[38;5;66;03m# print(\"Accuracy of Test Dataset:\", round(accuracy(x_test, y_test, Parameters), 2), \"%\")\u001b[39;00m\n\u001b[1;32m     20\u001b[0m \u001b[38;5;28mprint\u001b[39m(\u001b[38;5;124m\"\u001b[39m\u001b[38;5;124maccuracy of train dataset :\u001b[39m\u001b[38;5;124m\"\u001b[39m,accuracy(x_train,y_train,Parameters))\n",
      "Cell \u001b[0;32mIn[79], line 12\u001b[0m, in \u001b[0;36mmodel\u001b[0;34m(x, y, n_h, learning_rate, iterations)\u001b[0m\n\u001b[1;32m      9\u001b[0m \u001b[38;5;28;01mfor\u001b[39;00m i \u001b[38;5;129;01min\u001b[39;00m \u001b[38;5;28mrange\u001b[39m(iterations):\n\u001b[1;32m     11\u001b[0m     forward_cache \u001b[38;5;241m=\u001b[39m forward_propagation(x, parameters)\n\u001b[0;32m---> 12\u001b[0m     cost \u001b[38;5;241m=\u001b[39m cost_function(forward_cache[\u001b[38;5;124m'\u001b[39m\u001b[38;5;124ma2\u001b[39m\u001b[38;5;124m'\u001b[39m], y)\n\u001b[1;32m     14\u001b[0m     gradients \u001b[38;5;241m=\u001b[39m backward_prop(x, y, parameters, forward_cache)\n\u001b[1;32m     15\u001b[0m     parameters \u001b[38;5;241m=\u001b[39m update_parameters(parameters, gradients, learning_rate)\n",
      "Cell \u001b[0;32mIn[76], line 4\u001b[0m, in \u001b[0;36mcost_function\u001b[0;34m(a2, y)\u001b[0m\n\u001b[1;32m      2\u001b[0m m \u001b[38;5;241m=\u001b[39m y\u001b[38;5;241m.\u001b[39mshape[\u001b[38;5;241m1\u001b[39m]\n\u001b[1;32m      3\u001b[0m a2 \u001b[38;5;241m=\u001b[39m np\u001b[38;5;241m.\u001b[39mclip(a2, \u001b[38;5;241m1e-10\u001b[39m, \u001b[38;5;241m1\u001b[39m \u001b[38;5;241m-\u001b[39m \u001b[38;5;241m1e-10\u001b[39m) \n\u001b[0;32m----> 4\u001b[0m cost \u001b[38;5;241m=\u001b[39m \u001b[38;5;241m-\u001b[39m(\u001b[38;5;241m1\u001b[39m\u001b[38;5;241m/\u001b[39mm) \u001b[38;5;241m*\u001b[39m np\u001b[38;5;241m.\u001b[39msum(y \u001b[38;5;241m*\u001b[39m np\u001b[38;5;241m.\u001b[39mlog(a2))\n\u001b[1;32m      5\u001b[0m \u001b[38;5;28;01mreturn\u001b[39;00m cost\n",
      "File \u001b[0;32m/opt/anaconda3/lib/python3.11/site-packages/pandas/core/ops/common.py:81\u001b[0m, in \u001b[0;36m_unpack_zerodim_and_defer.<locals>.new_method\u001b[0;34m(self, other)\u001b[0m\n\u001b[1;32m     77\u001b[0m             \u001b[38;5;28;01mreturn\u001b[39;00m \u001b[38;5;28mNotImplemented\u001b[39m\n\u001b[1;32m     79\u001b[0m other \u001b[38;5;241m=\u001b[39m item_from_zerodim(other)\n\u001b[0;32m---> 81\u001b[0m \u001b[38;5;28;01mreturn\u001b[39;00m method(\u001b[38;5;28mself\u001b[39m, other)\n",
      "File \u001b[0;32m/opt/anaconda3/lib/python3.11/site-packages/pandas/core/arraylike.py:202\u001b[0m, in \u001b[0;36mOpsMixin.__mul__\u001b[0;34m(self, other)\u001b[0m\n\u001b[1;32m    200\u001b[0m \u001b[38;5;129m@unpack_zerodim_and_defer\u001b[39m(\u001b[38;5;124m\"\u001b[39m\u001b[38;5;124m__mul__\u001b[39m\u001b[38;5;124m\"\u001b[39m)\n\u001b[1;32m    201\u001b[0m \u001b[38;5;28;01mdef\u001b[39;00m \u001b[38;5;21m__mul__\u001b[39m(\u001b[38;5;28mself\u001b[39m, other):\n\u001b[0;32m--> 202\u001b[0m     \u001b[38;5;28;01mreturn\u001b[39;00m \u001b[38;5;28mself\u001b[39m\u001b[38;5;241m.\u001b[39m_arith_method(other, operator\u001b[38;5;241m.\u001b[39mmul)\n",
      "File \u001b[0;32m/opt/anaconda3/lib/python3.11/site-packages/pandas/core/frame.py:7455\u001b[0m, in \u001b[0;36mDataFrame._arith_method\u001b[0;34m(self, other, op)\u001b[0m\n\u001b[1;32m   7452\u001b[0m axis: Literal[\u001b[38;5;241m1\u001b[39m] \u001b[38;5;241m=\u001b[39m \u001b[38;5;241m1\u001b[39m  \u001b[38;5;66;03m# only relevant for Series other case\u001b[39;00m\n\u001b[1;32m   7453\u001b[0m other \u001b[38;5;241m=\u001b[39m ops\u001b[38;5;241m.\u001b[39mmaybe_prepare_scalar_for_op(other, (\u001b[38;5;28mself\u001b[39m\u001b[38;5;241m.\u001b[39mshape[axis],))\n\u001b[0;32m-> 7455\u001b[0m \u001b[38;5;28mself\u001b[39m, other \u001b[38;5;241m=\u001b[39m ops\u001b[38;5;241m.\u001b[39malign_method_FRAME(\u001b[38;5;28mself\u001b[39m, other, axis, flex\u001b[38;5;241m=\u001b[39m\u001b[38;5;28;01mTrue\u001b[39;00m, level\u001b[38;5;241m=\u001b[39m\u001b[38;5;28;01mNone\u001b[39;00m)\n\u001b[1;32m   7457\u001b[0m new_data \u001b[38;5;241m=\u001b[39m \u001b[38;5;28mself\u001b[39m\u001b[38;5;241m.\u001b[39m_dispatch_frame_op(other, op, axis\u001b[38;5;241m=\u001b[39maxis)\n\u001b[1;32m   7458\u001b[0m \u001b[38;5;28;01mreturn\u001b[39;00m \u001b[38;5;28mself\u001b[39m\u001b[38;5;241m.\u001b[39m_construct_result(new_data)\n",
      "File \u001b[0;32m/opt/anaconda3/lib/python3.11/site-packages/pandas/core/ops/__init__.py:288\u001b[0m, in \u001b[0;36malign_method_FRAME\u001b[0;34m(left, right, axis, flex, level)\u001b[0m\n\u001b[1;32m    285\u001b[0m         right \u001b[38;5;241m=\u001b[39m to_series(right[\u001b[38;5;241m0\u001b[39m, :])\n\u001b[1;32m    287\u001b[0m     \u001b[38;5;28;01melse\u001b[39;00m:\n\u001b[0;32m--> 288\u001b[0m         \u001b[38;5;28;01mraise\u001b[39;00m \u001b[38;5;167;01mValueError\u001b[39;00m(\n\u001b[1;32m    289\u001b[0m             \u001b[38;5;124m\"\u001b[39m\u001b[38;5;124mUnable to coerce to DataFrame, shape \u001b[39m\u001b[38;5;124m\"\u001b[39m\n\u001b[1;32m    290\u001b[0m             \u001b[38;5;124mf\u001b[39m\u001b[38;5;124m\"\u001b[39m\u001b[38;5;124mmust be \u001b[39m\u001b[38;5;132;01m{\u001b[39;00mleft\u001b[38;5;241m.\u001b[39mshape\u001b[38;5;132;01m}\u001b[39;00m\u001b[38;5;124m: given \u001b[39m\u001b[38;5;132;01m{\u001b[39;00mright\u001b[38;5;241m.\u001b[39mshape\u001b[38;5;132;01m}\u001b[39;00m\u001b[38;5;124m\"\u001b[39m\n\u001b[1;32m    291\u001b[0m         )\n\u001b[1;32m    293\u001b[0m \u001b[38;5;28;01melif\u001b[39;00m right\u001b[38;5;241m.\u001b[39mndim \u001b[38;5;241m>\u001b[39m \u001b[38;5;241m2\u001b[39m:\n\u001b[1;32m    294\u001b[0m     \u001b[38;5;28;01mraise\u001b[39;00m \u001b[38;5;167;01mValueError\u001b[39;00m(\n\u001b[1;32m    295\u001b[0m         \u001b[38;5;124m\"\u001b[39m\u001b[38;5;124mUnable to coerce to Series/DataFrame, \u001b[39m\u001b[38;5;124m\"\u001b[39m\n\u001b[1;32m    296\u001b[0m         \u001b[38;5;124mf\u001b[39m\u001b[38;5;124m\"\u001b[39m\u001b[38;5;124mdimension must be <= 2: \u001b[39m\u001b[38;5;132;01m{\u001b[39;00mright\u001b[38;5;241m.\u001b[39mshape\u001b[38;5;132;01m}\u001b[39;00m\u001b[38;5;124m\"\u001b[39m\n\u001b[1;32m    297\u001b[0m     )\n",
      "\u001b[0;31mValueError\u001b[0m: Unable to coerce to DataFrame, shape must be (999, 10): given (999, 999)"
     ]
    }
   ],
   "source": [
    "\n",
    "iterations = 100\n",
    "n_h = 10\n",
    "learning_rate = 0.02\n",
    "\n",
    "\n",
    "x_train = x_train.T\n",
    "x_test = x_test.T\n",
    "\n",
    "\n",
    "Parameters, Cost_list = model(x_train, y_train, n_h=n_h, learning_rate=learning_rate, iterations=iterations)\n",
    "\n",
    "\n",
    "print(\"accuracy of train dataset :\",accuracy(x_train,y_train,Parameters))\n",
    "print(\"accuracy of test dataset :\",accuracy(x_test,y_test,parameters))"
   ]
  },
  {
   "cell_type": "code",
   "execution_count": null,
   "id": "e6d689a3",
   "metadata": {},
   "outputs": [],
   "source": []
  }
 ],
 "metadata": {
  "kernelspec": {
   "display_name": "Python 3 (ipykernel)",
   "language": "python",
   "name": "python3"
  },
  "language_info": {
   "codemirror_mode": {
    "name": "ipython",
    "version": 3
   },
   "file_extension": ".py",
   "mimetype": "text/x-python",
   "name": "python",
   "nbconvert_exporter": "python",
   "pygments_lexer": "ipython3",
   "version": "3.12.2"
  }
 },
 "nbformat": 4,
 "nbformat_minor": 5
}
